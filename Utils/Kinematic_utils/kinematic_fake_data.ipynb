{
 "cells": [
  {
   "cell_type": "code",
   "execution_count": 2,
   "metadata": {},
   "outputs": [],
   "source": [
    "import numpy as np\n",
    "import pandas as pd\n",
    "from sklearn.preprocessing import MinMaxScaler\n",
    "import os\n",
    "\n",
    "# 加载和准备数据\n",
    "file_path = '/home/rzhou/Projects/Diffusion-TS/OUTPUT/rounD_map00_interval1_seq500_nfea10_pad-300/ddpm_fake_rounD_map00_interval1_seq500_nfea10_pad-300.npy'\n",
    "fake_data_norm = np.load(file_path)\n",
    "\n",
    "# 假设原始数据路径和原始数据的处理\n",
    "df = pd.read_csv(\"/DATA1/rzhou/ika/multi_testcases/rounD/ori/seq500/00-01/rounD_map00_interval1_seq500_nfea10.csv\", header=0)\n",
    "data = df.values\n",
    "# 定义一个极端的填充值\n",
    "extreme_value = -300\n",
    "# 替换所有为0的值\n",
    "data[data == 0] = extreme_value\n",
    "scaler = MinMaxScaler().fit(data[:, 1:])\n",
    "\n",
    "seq_length = 500\n",
    "num_feature = df.shape[1] - 1\n",
    "# 将fake_data从归一化状态恢复到原始尺度\n",
    "fake_data = scaler.inverse_transform(fake_data_norm.reshape(-1, num_feature)).reshape(-1, seq_length, num_feature)\n",
    "\n",
    "# 设置极端值并替换\n",
    "fake_data[fake_data < -200] = 0"
   ]
  },
  {
   "cell_type": "code",
   "execution_count": 3,
   "metadata": {},
   "outputs": [
    {
     "data": {
      "text/plain": [
       "(3000, 500, 10)"
      ]
     },
     "execution_count": 3,
     "metadata": {},
     "output_type": "execute_result"
    }
   ],
   "source": [
    "fake_data.shape"
   ]
  },
  {
   "cell_type": "code",
   "execution_count": null,
   "metadata": {},
   "outputs": [],
   "source": []
  }
 ],
 "metadata": {
  "kernelspec": {
   "display_name": "base",
   "language": "python",
   "name": "python3"
  },
  "language_info": {
   "codemirror_mode": {
    "name": "ipython",
    "version": 3
   },
   "file_extension": ".py",
   "mimetype": "text/x-python",
   "name": "python",
   "nbconvert_exporter": "python",
   "pygments_lexer": "ipython3",
   "version": "3.11.8"
  }
 },
 "nbformat": 4,
 "nbformat_minor": 2
}
