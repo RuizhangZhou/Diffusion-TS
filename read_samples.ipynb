{
 "cells": [
  {
   "cell_type": "code",
   "execution_count": 5,
   "metadata": {},
   "outputs": [
    {
     "name": "stdout",
     "output_type": "stream",
     "text": [
      "[[[0.55268975 0.33130224 0.65990628 ... 0.27227208 0.61755574 0.56393848]\n",
      "  [0.54990676 0.33053535 0.660566   ... 0.27228677 0.62312039 0.56595109]\n",
      "  [0.55280809 0.33063932 0.65971282 ... 0.27069245 0.6107587  0.56018958]\n",
      "  ...\n",
      "  [0.61667973 0.33923648 0.6474378  ... 0.26752418 0.34162816 0.44311142]\n",
      "  [0.61850087 0.33940691 0.6478079  ... 0.26699774 0.33261396 0.44007401]\n",
      "  [0.61757654 0.33967045 0.65035352 ... 0.26809765 0.33690324 0.44170148]]\n",
      "\n",
      " [[0.54262234 0.35364507 0.66830964 ... 0.26686653 0.27048868 0.2868371 ]\n",
      "  [0.54122843 0.3530658  0.66844395 ... 0.26688758 0.26944359 0.2868344 ]\n",
      "  [0.54385594 0.35308576 0.66969177 ... 0.26701473 0.27182159 0.28809793]\n",
      "  ...\n",
      "  [0.57689902 0.34797224 0.71342415 ... 0.29118545 0.32638834 0.31648427]\n",
      "  [0.57774173 0.34807864 0.7135047  ... 0.29103896 0.32820173 0.31769256]\n",
      "  [0.57694894 0.34896283 0.71363431 ... 0.29101001 0.32813501 0.3171801 ]]\n",
      "\n",
      " [[0.74346854 0.78459504 0.61463946 ... 0.53134776 0.54567574 0.49285859]\n",
      "  [0.74126185 0.78406948 0.61450557 ... 0.53282642 0.54544255 0.49309847]\n",
      "  [0.74534151 0.78596744 0.61571392 ... 0.52856062 0.54295285 0.49339975]\n",
      "  ...\n",
      "  [0.82338598 0.82279336 0.65106086 ... 0.45282348 0.49772731 0.50568232]\n",
      "  [0.82550302 0.82311514 0.65209426 ... 0.45026395 0.49604633 0.50607401]\n",
      "  [0.82368582 0.82241723 0.65302199 ... 0.45167408 0.49673411 0.50524029]]\n",
      "\n",
      " ...\n",
      "\n",
      " [[0.69212611 0.52939237 0.30841966 ... 0.38413247 0.18095526 0.90793046]\n",
      "  [0.69057988 0.52894632 0.30891797 ... 0.38405923 0.18052131 0.90966904]\n",
      "  [0.69341077 0.52847365 0.30809502 ... 0.38371934 0.18088761 0.90842012]\n",
      "  ...\n",
      "  [0.7386861  0.53083742 0.2980451  ... 0.4150386  0.2100099  0.87212056]\n",
      "  [0.73942468 0.53037954 0.29867986 ... 0.41534545 0.21042165 0.87067926]\n",
      "  [0.73842485 0.53084319 0.2998381  ... 0.41570349 0.21075428 0.87001613]]\n",
      "\n",
      " [[0.71514902 0.75032872 0.5398206  ... 0.39576764 0.62739626 0.55315165]\n",
      "  [0.71298027 0.74982186 0.53908678 ... 0.39764455 0.62963589 0.54312127]\n",
      "  [0.71614757 0.75177997 0.540575   ... 0.39463605 0.61927255 0.54978516]\n",
      "  ...\n",
      "  [0.76604658 0.78870872 0.58415735 ... 0.34184545 0.39470112 0.75681674]\n",
      "  [0.7670497  0.7887727  0.58584484 ... 0.33994073 0.38701122 0.76651329]\n",
      "  [0.76538351 0.78775349 0.58713876 ... 0.3407986  0.38855202 0.76920837]]\n",
      "\n",
      " [[0.37041843 0.71576211 0.50673912 ... 0.49414884 0.60173282 0.50954334]\n",
      "  [0.36796837 0.71737429 0.50484416 ... 0.49707004 0.60616872 0.50774998]\n",
      "  [0.36949849 0.71641746 0.50746578 ... 0.49206964 0.59320232 0.50510349]\n",
      "  ...\n",
      "  [0.39527139 0.67345932 0.57956912 ... 0.38833075 0.3207466  0.47473656]\n",
      "  [0.39578053 0.67150603 0.58118843 ... 0.38524477 0.31063601 0.47385219]\n",
      "  [0.39418267 0.67264304 0.58215903 ... 0.38681063 0.31403783 0.4741501 ]]]\n"
     ]
    }
   ],
   "source": [
    "\n",
    "import numpy as np\n",
    "\n",
    "# 假设你的npy文件路径是 'path_to_your_npy_file.npy'\n",
    "file_path = '/home/rzhou/Projects/Diffusion-TS/OUTPUT/inD_multi_18-29/ddpm_fake_inD_multi_18-29.npy'\n",
    "\n",
    "# 使用numpy的load函数读取npy文件\n",
    "fake_data = np.load(file_path)\n",
    "\n",
    "# 现在，变量data包含了npy文件中的数据\n",
    "# 你可以打印数据来查看内容，或者进行其他操作\n",
    "print(fake_data)"
   ]
  },
  {
   "cell_type": "code",
   "execution_count": 6,
   "metadata": {},
   "outputs": [
    {
     "name": "stdout",
     "output_type": "stream",
     "text": [
      "(4002, 100, 10)\n"
     ]
    }
   ],
   "source": [
    "print(fake_data.shape)"
   ]
  },
  {
   "cell_type": "code",
   "execution_count": 7,
   "metadata": {},
   "outputs": [
    {
     "ename": "ValueError",
     "evalue": "Found array with dim 3. None expected <= 2.",
     "output_type": "error",
     "traceback": [
      "\u001b[0;31m---------------------------------------------------------------------------\u001b[0m",
      "\u001b[0;31mValueError\u001b[0m                                Traceback (most recent call last)",
      "Cell \u001b[0;32mIn[7], line 7\u001b[0m\n\u001b[1;32m      5\u001b[0m scaler \u001b[38;5;241m=\u001b[39m MinMaxScaler()\n\u001b[1;32m      6\u001b[0m scaler \u001b[38;5;241m=\u001b[39m scaler\u001b[38;5;241m.\u001b[39mfit(data[:,\u001b[38;5;241m1\u001b[39m:])\n\u001b[0;32m----> 7\u001b[0m \u001b[43mscaler\u001b[49m\u001b[38;5;241;43m.\u001b[39;49m\u001b[43minverse_transform\u001b[49m\u001b[43m(\u001b[49m\u001b[43mfake_data\u001b[49m\u001b[43m)\u001b[49m\n",
      "File \u001b[0;32m~/miniconda3/lib/python3.11/site-packages/sklearn/preprocessing/_data.py:565\u001b[0m, in \u001b[0;36mMinMaxScaler.inverse_transform\u001b[0;34m(self, X)\u001b[0m\n\u001b[1;32m    561\u001b[0m check_is_fitted(\u001b[38;5;28mself\u001b[39m)\n\u001b[1;32m    563\u001b[0m xp, _ \u001b[38;5;241m=\u001b[39m get_namespace(X)\n\u001b[0;32m--> 565\u001b[0m X \u001b[38;5;241m=\u001b[39m \u001b[43mcheck_array\u001b[49m\u001b[43m(\u001b[49m\n\u001b[1;32m    566\u001b[0m \u001b[43m    \u001b[49m\u001b[43mX\u001b[49m\u001b[43m,\u001b[49m\n\u001b[1;32m    567\u001b[0m \u001b[43m    \u001b[49m\u001b[43mcopy\u001b[49m\u001b[38;5;241;43m=\u001b[39;49m\u001b[38;5;28;43mself\u001b[39;49m\u001b[38;5;241;43m.\u001b[39;49m\u001b[43mcopy\u001b[49m\u001b[43m,\u001b[49m\n\u001b[1;32m    568\u001b[0m \u001b[43m    \u001b[49m\u001b[43mdtype\u001b[49m\u001b[38;5;241;43m=\u001b[39;49m\u001b[43m_array_api\u001b[49m\u001b[38;5;241;43m.\u001b[39;49m\u001b[43msupported_float_dtypes\u001b[49m\u001b[43m(\u001b[49m\u001b[43mxp\u001b[49m\u001b[43m)\u001b[49m\u001b[43m,\u001b[49m\n\u001b[1;32m    569\u001b[0m \u001b[43m    \u001b[49m\u001b[43mforce_all_finite\u001b[49m\u001b[38;5;241;43m=\u001b[39;49m\u001b[38;5;124;43m\"\u001b[39;49m\u001b[38;5;124;43mallow-nan\u001b[39;49m\u001b[38;5;124;43m\"\u001b[39;49m\u001b[43m,\u001b[49m\n\u001b[1;32m    570\u001b[0m \u001b[43m\u001b[49m\u001b[43m)\u001b[49m\n\u001b[1;32m    572\u001b[0m X \u001b[38;5;241m-\u001b[39m\u001b[38;5;241m=\u001b[39m \u001b[38;5;28mself\u001b[39m\u001b[38;5;241m.\u001b[39mmin_\n\u001b[1;32m    573\u001b[0m X \u001b[38;5;241m/\u001b[39m\u001b[38;5;241m=\u001b[39m \u001b[38;5;28mself\u001b[39m\u001b[38;5;241m.\u001b[39mscale_\n",
      "File \u001b[0;32m~/miniconda3/lib/python3.11/site-packages/sklearn/utils/validation.py:1043\u001b[0m, in \u001b[0;36mcheck_array\u001b[0;34m(array, accept_sparse, accept_large_sparse, dtype, order, copy, force_all_finite, ensure_2d, allow_nd, ensure_min_samples, ensure_min_features, estimator, input_name)\u001b[0m\n\u001b[1;32m   1038\u001b[0m     \u001b[38;5;28;01mraise\u001b[39;00m \u001b[38;5;167;01mValueError\u001b[39;00m(\n\u001b[1;32m   1039\u001b[0m         \u001b[38;5;124m\"\u001b[39m\u001b[38;5;124mdtype=\u001b[39m\u001b[38;5;124m'\u001b[39m\u001b[38;5;124mnumeric\u001b[39m\u001b[38;5;124m'\u001b[39m\u001b[38;5;124m is not compatible with arrays of bytes/strings.\u001b[39m\u001b[38;5;124m\"\u001b[39m\n\u001b[1;32m   1040\u001b[0m         \u001b[38;5;124m\"\u001b[39m\u001b[38;5;124mConvert your data to numeric values explicitly instead.\u001b[39m\u001b[38;5;124m\"\u001b[39m\n\u001b[1;32m   1041\u001b[0m     )\n\u001b[1;32m   1042\u001b[0m \u001b[38;5;28;01mif\u001b[39;00m \u001b[38;5;129;01mnot\u001b[39;00m allow_nd \u001b[38;5;129;01mand\u001b[39;00m array\u001b[38;5;241m.\u001b[39mndim \u001b[38;5;241m>\u001b[39m\u001b[38;5;241m=\u001b[39m \u001b[38;5;241m3\u001b[39m:\n\u001b[0;32m-> 1043\u001b[0m     \u001b[38;5;28;01mraise\u001b[39;00m \u001b[38;5;167;01mValueError\u001b[39;00m(\n\u001b[1;32m   1044\u001b[0m         \u001b[38;5;124m\"\u001b[39m\u001b[38;5;124mFound array with dim \u001b[39m\u001b[38;5;132;01m%d\u001b[39;00m\u001b[38;5;124m. \u001b[39m\u001b[38;5;132;01m%s\u001b[39;00m\u001b[38;5;124m expected <= 2.\u001b[39m\u001b[38;5;124m\"\u001b[39m\n\u001b[1;32m   1045\u001b[0m         \u001b[38;5;241m%\u001b[39m (array\u001b[38;5;241m.\u001b[39mndim, estimator_name)\n\u001b[1;32m   1046\u001b[0m     )\n\u001b[1;32m   1048\u001b[0m \u001b[38;5;28;01mif\u001b[39;00m force_all_finite:\n\u001b[1;32m   1049\u001b[0m     _assert_all_finite(\n\u001b[1;32m   1050\u001b[0m         array,\n\u001b[1;32m   1051\u001b[0m         input_name\u001b[38;5;241m=\u001b[39minput_name,\n\u001b[1;32m   1052\u001b[0m         estimator_name\u001b[38;5;241m=\u001b[39mestimator_name,\n\u001b[1;32m   1053\u001b[0m         allow_nan\u001b[38;5;241m=\u001b[39mforce_all_finite \u001b[38;5;241m==\u001b[39m \u001b[38;5;124m\"\u001b[39m\u001b[38;5;124mallow-nan\u001b[39m\u001b[38;5;124m\"\u001b[39m,\n\u001b[1;32m   1054\u001b[0m     )\n",
      "\u001b[0;31mValueError\u001b[0m: Found array with dim 3. None expected <= 2."
     ]
    }
   ],
   "source": [
    "import pandas as pd\n",
    "from sklearn.preprocessing import MinMaxScaler\n",
    "df = pd.read_csv(\"/DATA1/rzhou/ika/multi_testcases/inD_multi_18-29.csv\", header=0)\n",
    "data = df.values\n",
    "scaler = MinMaxScaler()\n",
    "scaler = scaler.fit(data[:,1:])\n",
    "scaler.inverse_transform(fake_data.reshape(-1, 10)).reshape(-1, 100, 10)\n"
   ]
  },
  {
   "cell_type": "code",
   "execution_count": null,
   "metadata": {},
   "outputs": [],
   "source": []
  }
 ],
 "metadata": {
  "kernelspec": {
   "display_name": "base",
   "language": "python",
   "name": "python3"
  },
  "language_info": {
   "codemirror_mode": {
    "name": "ipython",
    "version": 3
   },
   "file_extension": ".py",
   "mimetype": "text/x-python",
   "name": "python",
   "nbconvert_exporter": "python",
   "pygments_lexer": "ipython3",
   "version": "3.11.8"
  }
 },
 "nbformat": 4,
 "nbformat_minor": 2
}
